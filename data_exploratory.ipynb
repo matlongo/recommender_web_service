{
 "cells": [
  {
   "cell_type": "markdown",
   "metadata": {
    "deletable": true,
    "editable": true
   },
   "source": [
    "# Building a recommender system web service from scratch "
   ]
  },
  {
   "cell_type": "markdown",
   "metadata": {
    "deletable": true,
    "editable": true
   },
   "source": [
    "In this notebook I'm going to show how to build a small and simple recommender system web service from scratch. First of all, we will look at the data that we're going to use, which is about songs. Secondly, we are going to analyse different recommender implementations that might be suitable for the data that we have, we will also compare their metrics to choose our best option. Thirdly, we are going to build a home-made item-based recommender system so that we have an intuition of how everything works at a low-level. Finally, we will see how to start the web service and take into account how to update the structures that we are going to use.\n",
    "\n",
    "Let's get started!\n",
    "\n",
    "## 1. Data Analysis\n",
    "\n",
    "First of all we are going to take a look at our data. We will use the [Millong Song Dataset](https://labrosa.ee.columbia.edu/millionsong/) which is a huge dataset of songs with their titles and authors. It also provides a file with the amount of times a user has played a song. We will also use the data present in the [Millon Song Dataset Kaggle's Challenge](https://www.kaggle.com/c/msdchallenge/data), which contains some useful data. Explicitely, we are going to use the following files:\n",
    "* *train_triplets.txt*: this file is provided by [*The Echo Nest Taste Profile Subset*](https://labrosa.ee.columbia.edu/millionsong/tasteprofile). It basically has three fields separated by tabs: user_id, song_id, and play count. It is an explicit interaction between users and items, namely songs. This will pave the way for the recommender systems that we will implement.\n",
    "* *unique_tracks.txt*: list of artist and titles for all tracks in a [text file](http://labrosa.ee.columbia.edu/millionsong/sites/default/files/AdditionalFiles/unique_tracks.txt).\n",
    "* *taste_profile_song_to_tracks.txt*: some of the files refer to the songs by the song_id, but others do so with the track_id. This file maps each song_id to the corresponding track_id.\n",
    "* *kaggle_users*: list of all the users, provided by the kaggle challenge's website.\n",
    "* *kaggle_songs*: list of all the songs, provided by the kaggle challenge's website.\n",
    "\n",
    "First we will fire up all the libraries that we are going to use."
   ]
  },
  {
   "cell_type": "code",
   "execution_count": 2,
   "metadata": {
    "collapsed": false,
    "deletable": true,
    "editable": true
   },
   "outputs": [],
   "source": [
    "import pandas as pd\n",
    "import numpy as np\n",
    "import time\n",
    "import math\n",
    "import warnings\n",
    "warnings.filterwarnings('ignore')"
   ]
  },
  {
   "cell_type": "markdown",
   "metadata": {
    "deletable": true,
    "editable": true
   },
   "source": [
    "Now it's time to load the dataset. The dataset is quite heavy, so we are going to load just a subset of it, to analyse the data."
   ]
  },
  {
   "cell_type": "code",
   "execution_count": 7,
   "metadata": {
    "collapsed": false,
    "deletable": true,
    "editable": true
   },
   "outputs": [
    {
     "data": {
      "text/html": [
       "<div>\n",
       "<table border=\"1\" class=\"dataframe\">\n",
       "  <thead>\n",
       "    <tr style=\"text-align: right;\">\n",
       "      <th></th>\n",
       "      <th>user_id</th>\n",
       "      <th>song_id</th>\n",
       "      <th>count</th>\n",
       "    </tr>\n",
       "  </thead>\n",
       "  <tbody>\n",
       "    <tr>\n",
       "      <th>0</th>\n",
       "      <td>b80344d063b5ccb3212f76538f3d9e43d87dca9e</td>\n",
       "      <td>SOAKIMP12A8C130995</td>\n",
       "      <td>1</td>\n",
       "    </tr>\n",
       "    <tr>\n",
       "      <th>1</th>\n",
       "      <td>b80344d063b5ccb3212f76538f3d9e43d87dca9e</td>\n",
       "      <td>SOAPDEY12A81C210A9</td>\n",
       "      <td>1</td>\n",
       "    </tr>\n",
       "    <tr>\n",
       "      <th>2</th>\n",
       "      <td>b80344d063b5ccb3212f76538f3d9e43d87dca9e</td>\n",
       "      <td>SOBBMDR12A8C13253B</td>\n",
       "      <td>2</td>\n",
       "    </tr>\n",
       "    <tr>\n",
       "      <th>3</th>\n",
       "      <td>b80344d063b5ccb3212f76538f3d9e43d87dca9e</td>\n",
       "      <td>SOBFNSP12AF72A0E22</td>\n",
       "      <td>1</td>\n",
       "    </tr>\n",
       "    <tr>\n",
       "      <th>4</th>\n",
       "      <td>b80344d063b5ccb3212f76538f3d9e43d87dca9e</td>\n",
       "      <td>SOBFOVM12A58A7D494</td>\n",
       "      <td>1</td>\n",
       "    </tr>\n",
       "  </tbody>\n",
       "</table>\n",
       "</div>"
      ],
      "text/plain": [
       "                                    user_id             song_id  count\n",
       "0  b80344d063b5ccb3212f76538f3d9e43d87dca9e  SOAKIMP12A8C130995      1\n",
       "1  b80344d063b5ccb3212f76538f3d9e43d87dca9e  SOAPDEY12A81C210A9      1\n",
       "2  b80344d063b5ccb3212f76538f3d9e43d87dca9e  SOBBMDR12A8C13253B      2\n",
       "3  b80344d063b5ccb3212f76538f3d9e43d87dca9e  SOBFNSP12AF72A0E22      1\n",
       "4  b80344d063b5ccb3212f76538f3d9e43d87dca9e  SOBFOVM12A58A7D494      1"
      ]
     },
     "execution_count": 7,
     "metadata": {},
     "output_type": "execute_result"
    }
   ],
   "source": [
    "song_triplets = pd.read_csv('train_triplets.txt', sep='\\t', names=['user_id', 'song_id', 'count'], nrows=5000000)\n",
    "song_triplets.head()"
   ]
  },
  {
   "cell_type": "markdown",
   "metadata": {
    "deletable": true,
    "editable": true
   },
   "source": [
    "Now we are going to load the *unique_tracks.txt* file and we are going to join that file with the triplets that we already have."
   ]
  },
  {
   "cell_type": "code",
   "execution_count": 11,
   "metadata": {
    "collapsed": false,
    "deletable": true,
    "editable": true
   },
   "outputs": [
    {
     "data": {
      "text/html": [
       "<div>\n",
       "<table border=\"1\" class=\"dataframe\">\n",
       "  <thead>\n",
       "    <tr style=\"text-align: right;\">\n",
       "      <th></th>\n",
       "      <th>user_id</th>\n",
       "      <th>song_id</th>\n",
       "      <th>count</th>\n",
       "      <th>track_id</th>\n",
       "      <th>author</th>\n",
       "      <th>title</th>\n",
       "    </tr>\n",
       "  </thead>\n",
       "  <tbody>\n",
       "    <tr>\n",
       "      <th>0</th>\n",
       "      <td>b80344d063b5ccb3212f76538f3d9e43d87dca9e</td>\n",
       "      <td>SOAKIMP12A8C130995</td>\n",
       "      <td>1</td>\n",
       "      <td>TRIQAUQ128F42435AD</td>\n",
       "      <td>Jack Johnson</td>\n",
       "      <td>The Cove</td>\n",
       "    </tr>\n",
       "    <tr>\n",
       "      <th>1</th>\n",
       "      <td>b80344d063b5ccb3212f76538f3d9e43d87dca9e</td>\n",
       "      <td>SOAPDEY12A81C210A9</td>\n",
       "      <td>1</td>\n",
       "      <td>TRIRLYL128F42539D1</td>\n",
       "      <td>Billy Preston</td>\n",
       "      <td>Nothing from Nothing</td>\n",
       "    </tr>\n",
       "    <tr>\n",
       "      <th>2</th>\n",
       "      <td>b80344d063b5ccb3212f76538f3d9e43d87dca9e</td>\n",
       "      <td>SOBBMDR12A8C13253B</td>\n",
       "      <td>2</td>\n",
       "      <td>TRMHBXZ128F4238406</td>\n",
       "      <td>Paco De Lucia</td>\n",
       "      <td>Entre Dos Aguas</td>\n",
       "    </tr>\n",
       "    <tr>\n",
       "      <th>3</th>\n",
       "      <td>b80344d063b5ccb3212f76538f3d9e43d87dca9e</td>\n",
       "      <td>SOBFNSP12AF72A0E22</td>\n",
       "      <td>1</td>\n",
       "      <td>TRYQMNI128F147C1C7</td>\n",
       "      <td>Josh Rouse</td>\n",
       "      <td>Under Cold Blue Stars</td>\n",
       "    </tr>\n",
       "    <tr>\n",
       "      <th>4</th>\n",
       "      <td>b80344d063b5ccb3212f76538f3d9e43d87dca9e</td>\n",
       "      <td>SOBFOVM12A58A7D494</td>\n",
       "      <td>1</td>\n",
       "      <td>TRAHZNE128F9341B86</td>\n",
       "      <td>The Dead 60s</td>\n",
       "      <td>Riot Radio (Soundtrack Version)</td>\n",
       "    </tr>\n",
       "    <tr>\n",
       "      <th>5</th>\n",
       "      <td>b80344d063b5ccb3212f76538f3d9e43d87dca9e</td>\n",
       "      <td>SOBNZDC12A6D4FC103</td>\n",
       "      <td>1</td>\n",
       "      <td>TRJPXGD128F92F17D7</td>\n",
       "      <td>Amset</td>\n",
       "      <td>Sin límites (I)</td>\n",
       "    </tr>\n",
       "    <tr>\n",
       "      <th>6</th>\n",
       "      <td>b80344d063b5ccb3212f76538f3d9e43d87dca9e</td>\n",
       "      <td>SOBSUJE12A6D4F8CF5</td>\n",
       "      <td>2</td>\n",
       "      <td>TRPLAXZ128F4292406</td>\n",
       "      <td>Jorge Drexler</td>\n",
       "      <td>12 segundos de oscuridad</td>\n",
       "    </tr>\n",
       "    <tr>\n",
       "      <th>7</th>\n",
       "      <td>b80344d063b5ccb3212f76538f3d9e43d87dca9e</td>\n",
       "      <td>SOBVFZR12A6D4F8AE3</td>\n",
       "      <td>1</td>\n",
       "      <td>TREGAVI128F147C1CA</td>\n",
       "      <td>Josh Rouse</td>\n",
       "      <td>Ears To The Ground (Album Version)</td>\n",
       "    </tr>\n",
       "    <tr>\n",
       "      <th>8</th>\n",
       "      <td>b80344d063b5ccb3212f76538f3d9e43d87dca9e</td>\n",
       "      <td>SOBXALG12A8C13C108</td>\n",
       "      <td>1</td>\n",
       "      <td>TRZYZWL128F4277AD2</td>\n",
       "      <td>Eric Hutchinson</td>\n",
       "      <td>Food Chain (Album Version)</td>\n",
       "    </tr>\n",
       "    <tr>\n",
       "      <th>9</th>\n",
       "      <td>b80344d063b5ccb3212f76538f3d9e43d87dca9e</td>\n",
       "      <td>SOBXHDL12A81C204C0</td>\n",
       "      <td>1</td>\n",
       "      <td>TRHNCIR128F42334A5</td>\n",
       "      <td>Kanye West</td>\n",
       "      <td>Stronger</td>\n",
       "    </tr>\n",
       "    <tr>\n",
       "      <th>10</th>\n",
       "      <td>b80344d063b5ccb3212f76538f3d9e43d87dca9e</td>\n",
       "      <td>SOBXHDL12A81C204C0</td>\n",
       "      <td>1</td>\n",
       "      <td>TRUATNS128F423457D</td>\n",
       "      <td>Kanye West</td>\n",
       "      <td>Stronger</td>\n",
       "    </tr>\n",
       "    <tr>\n",
       "      <th>11</th>\n",
       "      <td>b80344d063b5ccb3212f76538f3d9e43d87dca9e</td>\n",
       "      <td>SOBYHAJ12A6701BF1D</td>\n",
       "      <td>1</td>\n",
       "      <td>TRYBNIB128F428E704</td>\n",
       "      <td>Jack Johnson</td>\n",
       "      <td>Constellations</td>\n",
       "    </tr>\n",
       "    <tr>\n",
       "      <th>12</th>\n",
       "      <td>b80344d063b5ccb3212f76538f3d9e43d87dca9e</td>\n",
       "      <td>SOCNMUH12A6D4F6E6D</td>\n",
       "      <td>1</td>\n",
       "      <td>TRGOSGL128F1471533</td>\n",
       "      <td>Zero 7</td>\n",
       "      <td>You're My Flame [Album Version]</td>\n",
       "    </tr>\n",
       "    <tr>\n",
       "      <th>13</th>\n",
       "      <td>b80344d063b5ccb3212f76538f3d9e43d87dca9e</td>\n",
       "      <td>SODACBL12A8C13C273</td>\n",
       "      <td>1</td>\n",
       "      <td>TRKRHYM128F42934A9</td>\n",
       "      <td>Foo Fighters</td>\n",
       "      <td>Learn To Fly</td>\n",
       "    </tr>\n",
       "    <tr>\n",
       "      <th>14</th>\n",
       "      <td>b80344d063b5ccb3212f76538f3d9e43d87dca9e</td>\n",
       "      <td>SODDNQT12A6D4F5F7E</td>\n",
       "      <td>5</td>\n",
       "      <td>TRPTWGR128F1452734</td>\n",
       "      <td>Héroes del Silencio</td>\n",
       "      <td>Apuesta Por El Rock 'N' Roll</td>\n",
       "    </tr>\n",
       "    <tr>\n",
       "      <th>15</th>\n",
       "      <td>b80344d063b5ccb3212f76538f3d9e43d87dca9e</td>\n",
       "      <td>SODXRTY12AB0180F3B</td>\n",
       "      <td>1</td>\n",
       "      <td>TRFUPBA128F934F7E1</td>\n",
       "      <td>Lady GaGa</td>\n",
       "      <td>Paper Gangsta</td>\n",
       "    </tr>\n",
       "    <tr>\n",
       "      <th>16</th>\n",
       "      <td>b80344d063b5ccb3212f76538f3d9e43d87dca9e</td>\n",
       "      <td>SODZWFT12A8C13C0E4</td>\n",
       "      <td>1</td>\n",
       "      <td>TRNRDZV128F4277AC9</td>\n",
       "      <td>Eric Hutchinson</td>\n",
       "      <td>You Don't Have To Believe Me (Album Version)</td>\n",
       "    </tr>\n",
       "    <tr>\n",
       "      <th>17</th>\n",
       "      <td>b80344d063b5ccb3212f76538f3d9e43d87dca9e</td>\n",
       "      <td>SOEGVZY12A58A7857E</td>\n",
       "      <td>1</td>\n",
       "      <td>TRKEXHB128F147C1C4</td>\n",
       "      <td>Josh Rouse</td>\n",
       "      <td>Nothing Gives Me Pleasure</td>\n",
       "    </tr>\n",
       "    <tr>\n",
       "      <th>18</th>\n",
       "      <td>b80344d063b5ccb3212f76538f3d9e43d87dca9e</td>\n",
       "      <td>SOEKWEA12A6D4F5DC3</td>\n",
       "      <td>1</td>\n",
       "      <td>TRWECMU128F1459198</td>\n",
       "      <td>Ayub Ogada</td>\n",
       "      <td>Dala</td>\n",
       "    </tr>\n",
       "    <tr>\n",
       "      <th>19</th>\n",
       "      <td>b80344d063b5ccb3212f76538f3d9e43d87dca9e</td>\n",
       "      <td>SOEOBYG12A6D4F8AE2</td>\n",
       "      <td>1</td>\n",
       "      <td>TRIBEAC128F147C1C8</td>\n",
       "      <td>Josh Rouse</td>\n",
       "      <td>Ugly Stories</td>\n",
       "    </tr>\n",
       "    <tr>\n",
       "      <th>20</th>\n",
       "      <td>b80344d063b5ccb3212f76538f3d9e43d87dca9e</td>\n",
       "      <td>SOEWFWM12A8C1308BA</td>\n",
       "      <td>1</td>\n",
       "      <td>TRLQPQJ128F42AA94F</td>\n",
       "      <td>Gipsy Kings</td>\n",
       "      <td>Soy</td>\n",
       "    </tr>\n",
       "    <tr>\n",
       "      <th>21</th>\n",
       "      <td>b80344d063b5ccb3212f76538f3d9e43d87dca9e</td>\n",
       "      <td>SOFFJPX12A6D4F7456</td>\n",
       "      <td>1</td>\n",
       "      <td>TRDWQHL128F147BD31</td>\n",
       "      <td>Josh Rouse</td>\n",
       "      <td>Winter In The Hamptons</td>\n",
       "    </tr>\n",
       "    <tr>\n",
       "      <th>22</th>\n",
       "      <td>b80344d063b5ccb3212f76538f3d9e43d87dca9e</td>\n",
       "      <td>SOFGUAY12AB017B0A8</td>\n",
       "      <td>1</td>\n",
       "      <td>TRTUCUY128F92E1D24</td>\n",
       "      <td>Foo Fighters</td>\n",
       "      <td>Stacked Actors</td>\n",
       "    </tr>\n",
       "    <tr>\n",
       "      <th>23</th>\n",
       "      <td>b80344d063b5ccb3212f76538f3d9e43d87dca9e</td>\n",
       "      <td>SOFRQTD12A81C233C0</td>\n",
       "      <td>1</td>\n",
       "      <td>TRDMBIJ128F4290431</td>\n",
       "      <td>Harmonia</td>\n",
       "      <td>Sehr kosmisch</td>\n",
       "    </tr>\n",
       "    <tr>\n",
       "      <th>24</th>\n",
       "      <td>b80344d063b5ccb3212f76538f3d9e43d87dca9e</td>\n",
       "      <td>SOFTKSZ12A6D4F5DC5</td>\n",
       "      <td>1</td>\n",
       "      <td>TRRLJTU128F145919A</td>\n",
       "      <td>Ayub Ogada</td>\n",
       "      <td>Thum Nyatiti</td>\n",
       "    </tr>\n",
       "    <tr>\n",
       "      <th>25</th>\n",
       "      <td>b80344d063b5ccb3212f76538f3d9e43d87dca9e</td>\n",
       "      <td>SOFZFQU12A8C13CAB8</td>\n",
       "      <td>1</td>\n",
       "      <td>TRAWUXF128F9341B9C</td>\n",
       "      <td>Army Navy</td>\n",
       "      <td>Silvery Sleds (Album Version)</td>\n",
       "    </tr>\n",
       "    <tr>\n",
       "      <th>26</th>\n",
       "      <td>b80344d063b5ccb3212f76538f3d9e43d87dca9e</td>\n",
       "      <td>SOGJAOS12A6D4F7459</td>\n",
       "      <td>1</td>\n",
       "      <td>TRVIXHO128F92C68A6</td>\n",
       "      <td>Josh Rouse</td>\n",
       "      <td>My Love Has Gone</td>\n",
       "    </tr>\n",
       "    <tr>\n",
       "      <th>27</th>\n",
       "      <td>b80344d063b5ccb3212f76538f3d9e43d87dca9e</td>\n",
       "      <td>SOHQIAG12A8C136F64</td>\n",
       "      <td>1</td>\n",
       "      <td>TRISTCY12903CD6D50</td>\n",
       "      <td>Josh Rouse</td>\n",
       "      <td>Hollywood Bass Player</td>\n",
       "    </tr>\n",
       "    <tr>\n",
       "      <th>28</th>\n",
       "      <td>b80344d063b5ccb3212f76538f3d9e43d87dca9e</td>\n",
       "      <td>SOHQWYZ12A6D4FA701</td>\n",
       "      <td>1</td>\n",
       "      <td>TRHDDQG12903CB53EE</td>\n",
       "      <td>Thievery Corporation feat. Emiliana Torrini</td>\n",
       "      <td>Heaven's gonna burn your eyes</td>\n",
       "    </tr>\n",
       "    <tr>\n",
       "      <th>29</th>\n",
       "      <td>b80344d063b5ccb3212f76538f3d9e43d87dca9e</td>\n",
       "      <td>SOHQZCA12A6D4FB317</td>\n",
       "      <td>1</td>\n",
       "      <td>TRBJALT12903CB2529</td>\n",
       "      <td>+ / - {Plus/Minus}</td>\n",
       "      <td>Leap Year</td>\n",
       "    </tr>\n",
       "    <tr>\n",
       "      <th>...</th>\n",
       "      <td>...</td>\n",
       "      <td>...</td>\n",
       "      <td>...</td>\n",
       "      <td>...</td>\n",
       "      <td>...</td>\n",
       "      <td>...</td>\n",
       "    </tr>\n",
       "    <tr>\n",
       "      <th>5132367</th>\n",
       "      <td>dd4e6c69ccf01d73e9f3802b0c5517d185627e4b</td>\n",
       "      <td>SOESVXY12A6702095C</td>\n",
       "      <td>3</td>\n",
       "      <td>TRSJRJI128F9304171</td>\n",
       "      <td>AFI</td>\n",
       "      <td>The Leaving Song</td>\n",
       "    </tr>\n",
       "    <tr>\n",
       "      <th>5132368</th>\n",
       "      <td>dd4e6c69ccf01d73e9f3802b0c5517d185627e4b</td>\n",
       "      <td>SOESYMP12AB0186BD5</td>\n",
       "      <td>2</td>\n",
       "      <td>TRUKWKA12903CC49CC</td>\n",
       "      <td>Galactic</td>\n",
       "      <td>Liquor Pang (featuring Josh Cohen and Ryan Scu...</td>\n",
       "    </tr>\n",
       "    <tr>\n",
       "      <th>5132369</th>\n",
       "      <td>dd4e6c69ccf01d73e9f3802b0c5517d185627e4b</td>\n",
       "      <td>SOEXEYP12A81C20BFF</td>\n",
       "      <td>1</td>\n",
       "      <td>TRWIPAR128F4251B95</td>\n",
       "      <td>Aretha Franklin</td>\n",
       "      <td>Hello Sunshine</td>\n",
       "    </tr>\n",
       "    <tr>\n",
       "      <th>5132370</th>\n",
       "      <td>dd4e6c69ccf01d73e9f3802b0c5517d185627e4b</td>\n",
       "      <td>SOEXIAZ12AB0181E02</td>\n",
       "      <td>1</td>\n",
       "      <td>TRLOOTY128F932B6E1</td>\n",
       "      <td>Silversun Pickups</td>\n",
       "      <td>There's No Secrets This Year (UK Edit)</td>\n",
       "    </tr>\n",
       "    <tr>\n",
       "      <th>5132371</th>\n",
       "      <td>dd4e6c69ccf01d73e9f3802b0c5517d185627e4b</td>\n",
       "      <td>SOFBLCI12A8C13609B</td>\n",
       "      <td>1</td>\n",
       "      <td>TRZOSTR128F4263D91</td>\n",
       "      <td>Sharon Jones &amp; The Dap-Kings</td>\n",
       "      <td>Fish In The Dish</td>\n",
       "    </tr>\n",
       "    <tr>\n",
       "      <th>5132372</th>\n",
       "      <td>dd4e6c69ccf01d73e9f3802b0c5517d185627e4b</td>\n",
       "      <td>SOFEHHL12A58A765C3</td>\n",
       "      <td>1</td>\n",
       "      <td>TRDGUSQ128F42BA7D8</td>\n",
       "      <td>Young Jeezy</td>\n",
       "      <td>Crazy World</td>\n",
       "    </tr>\n",
       "    <tr>\n",
       "      <th>5132373</th>\n",
       "      <td>dd4e6c69ccf01d73e9f3802b0c5517d185627e4b</td>\n",
       "      <td>SOFHEAN12AB018A760</td>\n",
       "      <td>1</td>\n",
       "      <td>TRYPUCK12903CE7BE9</td>\n",
       "      <td>Ratatat</td>\n",
       "      <td>Drugs</td>\n",
       "    </tr>\n",
       "    <tr>\n",
       "      <th>5132374</th>\n",
       "      <td>dd4e6c69ccf01d73e9f3802b0c5517d185627e4b</td>\n",
       "      <td>SOFKYDZ12AB017F425</td>\n",
       "      <td>1</td>\n",
       "      <td>TRQIBME128F93173C5</td>\n",
       "      <td>Metric</td>\n",
       "      <td>Stadium Love</td>\n",
       "    </tr>\n",
       "    <tr>\n",
       "      <th>5132375</th>\n",
       "      <td>dd4e6c69ccf01d73e9f3802b0c5517d185627e4b</td>\n",
       "      <td>SOFNJDS12A6D4FD150</td>\n",
       "      <td>1</td>\n",
       "      <td>TRGRBFM128F421BD5D</td>\n",
       "      <td>Confederate Railroad</td>\n",
       "      <td>She Never Cried (Remastered Album Version)</td>\n",
       "    </tr>\n",
       "    <tr>\n",
       "      <th>5132376</th>\n",
       "      <td>dd4e6c69ccf01d73e9f3802b0c5517d185627e4b</td>\n",
       "      <td>SOFRPBZ12A8C141E96</td>\n",
       "      <td>1</td>\n",
       "      <td>TRYRYCT128F92E4457</td>\n",
       "      <td>Sia</td>\n",
       "      <td>Little Man</td>\n",
       "    </tr>\n",
       "    <tr>\n",
       "      <th>5132377</th>\n",
       "      <td>dd4e6c69ccf01d73e9f3802b0c5517d185627e4b</td>\n",
       "      <td>SOFUBCQ12A6D4FA374</td>\n",
       "      <td>1</td>\n",
       "      <td>TRJHRBD128F92DFE8B</td>\n",
       "      <td>Jaga Jazzist</td>\n",
       "      <td>Day</td>\n",
       "    </tr>\n",
       "    <tr>\n",
       "      <th>5132378</th>\n",
       "      <td>dd4e6c69ccf01d73e9f3802b0c5517d185627e4b</td>\n",
       "      <td>SOFWLRF12AB017F405</td>\n",
       "      <td>2</td>\n",
       "      <td>TRDLCNU128F93173BD</td>\n",
       "      <td>Metric</td>\n",
       "      <td>Satellite Mind</td>\n",
       "    </tr>\n",
       "    <tr>\n",
       "      <th>5132379</th>\n",
       "      <td>dd4e6c69ccf01d73e9f3802b0c5517d185627e4b</td>\n",
       "      <td>SOFXWBG12A6D4F74BE</td>\n",
       "      <td>1</td>\n",
       "      <td>TRUIECJ128F14531E8</td>\n",
       "      <td>Stars</td>\n",
       "      <td>Your Ex-Lover Is Dead (Album Version)</td>\n",
       "    </tr>\n",
       "    <tr>\n",
       "      <th>5132380</th>\n",
       "      <td>dd4e6c69ccf01d73e9f3802b0c5517d185627e4b</td>\n",
       "      <td>SOFYFAB12A6D4FD9E2</td>\n",
       "      <td>1</td>\n",
       "      <td>TRHWBYL128F422310E</td>\n",
       "      <td>The Devil Makes Three</td>\n",
       "      <td>The Bullet</td>\n",
       "    </tr>\n",
       "    <tr>\n",
       "      <th>5132381</th>\n",
       "      <td>dd4e6c69ccf01d73e9f3802b0c5517d185627e4b</td>\n",
       "      <td>SOGCKKF12A58A7BDB7</td>\n",
       "      <td>1</td>\n",
       "      <td>TRNUTKF128F423BE1C</td>\n",
       "      <td>Pennywise</td>\n",
       "      <td>Nothing To Lose (Album)</td>\n",
       "    </tr>\n",
       "    <tr>\n",
       "      <th>5132382</th>\n",
       "      <td>dd4e6c69ccf01d73e9f3802b0c5517d185627e4b</td>\n",
       "      <td>SOGCLVE12A6D4FD9D4</td>\n",
       "      <td>3</td>\n",
       "      <td>TRUEVBR128F422310A</td>\n",
       "      <td>The Devil Makes Three</td>\n",
       "      <td>Old Number Seven</td>\n",
       "    </tr>\n",
       "    <tr>\n",
       "      <th>5132383</th>\n",
       "      <td>dd4e6c69ccf01d73e9f3802b0c5517d185627e4b</td>\n",
       "      <td>SOGFUFK12AB0185350</td>\n",
       "      <td>2</td>\n",
       "      <td>TRNONRP128F93269E9</td>\n",
       "      <td>The Decemberists</td>\n",
       "      <td>Shanty for the Arethusa</td>\n",
       "    </tr>\n",
       "    <tr>\n",
       "      <th>5132384</th>\n",
       "      <td>dd4e6c69ccf01d73e9f3802b0c5517d185627e4b</td>\n",
       "      <td>SOGGWUC12A6D4FD9E6</td>\n",
       "      <td>2</td>\n",
       "      <td>TRPQCSR128F422310F</td>\n",
       "      <td>The Devil Makes Three</td>\n",
       "      <td>For My Family</td>\n",
       "    </tr>\n",
       "    <tr>\n",
       "      <th>5132385</th>\n",
       "      <td>dd4e6c69ccf01d73e9f3802b0c5517d185627e4b</td>\n",
       "      <td>SOGHLYE12A8C136CF7</td>\n",
       "      <td>1</td>\n",
       "      <td>TRWAXTO128F429568A</td>\n",
       "      <td>Home Video</td>\n",
       "      <td>Pidpunk</td>\n",
       "    </tr>\n",
       "    <tr>\n",
       "      <th>5132386</th>\n",
       "      <td>dd4e6c69ccf01d73e9f3802b0c5517d185627e4b</td>\n",
       "      <td>SOGKPJY12A6D4F573A</td>\n",
       "      <td>1</td>\n",
       "      <td>TRPSOIT128F147A026</td>\n",
       "      <td>AFI</td>\n",
       "      <td>Kill Caustic</td>\n",
       "    </tr>\n",
       "    <tr>\n",
       "      <th>5132387</th>\n",
       "      <td>dd4e6c69ccf01d73e9f3802b0c5517d185627e4b</td>\n",
       "      <td>SOGMZKS12A8C13B4E9</td>\n",
       "      <td>1</td>\n",
       "      <td>TRRLBJI128F428A1E9</td>\n",
       "      <td>Dropkick Murphys</td>\n",
       "      <td>The Wild Rover (Album Version)</td>\n",
       "    </tr>\n",
       "    <tr>\n",
       "      <th>5132388</th>\n",
       "      <td>dd4e6c69ccf01d73e9f3802b0c5517d185627e4b</td>\n",
       "      <td>SOGNTPS12A8C13B937</td>\n",
       "      <td>2</td>\n",
       "      <td>TRTCQUM128F4289D54</td>\n",
       "      <td>Silversun Pickups</td>\n",
       "      <td>Waste It On</td>\n",
       "    </tr>\n",
       "    <tr>\n",
       "      <th>5132389</th>\n",
       "      <td>dd4e6c69ccf01d73e9f3802b0c5517d185627e4b</td>\n",
       "      <td>SOGOMEI12A67ADE989</td>\n",
       "      <td>1</td>\n",
       "      <td>TRAKKFK128F14A895A</td>\n",
       "      <td>Arcade Fire</td>\n",
       "      <td>The Well And The Lighthouse</td>\n",
       "    </tr>\n",
       "    <tr>\n",
       "      <th>5132390</th>\n",
       "      <td>dd4e6c69ccf01d73e9f3802b0c5517d185627e4b</td>\n",
       "      <td>SOGSMPQ12AB01830C1</td>\n",
       "      <td>1</td>\n",
       "      <td>TRCDWTE128F9345FE9</td>\n",
       "      <td>Xploding Plastix</td>\n",
       "      <td>Doubletalk Gets Through To You</td>\n",
       "    </tr>\n",
       "    <tr>\n",
       "      <th>5132391</th>\n",
       "      <td>dd4e6c69ccf01d73e9f3802b0c5517d185627e4b</td>\n",
       "      <td>SOHAGQS12A8C13F240</td>\n",
       "      <td>1</td>\n",
       "      <td>TRSSSOD128F9306692</td>\n",
       "      <td>Carla Bruni</td>\n",
       "      <td>If You Were Coming In The Fall (Album)</td>\n",
       "    </tr>\n",
       "    <tr>\n",
       "      <th>5132392</th>\n",
       "      <td>dd4e6c69ccf01d73e9f3802b0c5517d185627e4b</td>\n",
       "      <td>SOHFWNY12A6D4F9FB2</td>\n",
       "      <td>2</td>\n",
       "      <td>TRTDGUW128F1497BC8</td>\n",
       "      <td>My Chemical Romance</td>\n",
       "      <td>My Way Home Is Through You [B-Side]</td>\n",
       "    </tr>\n",
       "    <tr>\n",
       "      <th>5132393</th>\n",
       "      <td>dd4e6c69ccf01d73e9f3802b0c5517d185627e4b</td>\n",
       "      <td>SOHGLKT12A8C13AF29</td>\n",
       "      <td>1</td>\n",
       "      <td>TRAPZJQ128F428A022</td>\n",
       "      <td>Dropkick Murphys</td>\n",
       "      <td>Going Strong (Album Version)</td>\n",
       "    </tr>\n",
       "    <tr>\n",
       "      <th>5132394</th>\n",
       "      <td>dd4e6c69ccf01d73e9f3802b0c5517d185627e4b</td>\n",
       "      <td>SOHHCZG12A8C13C96E</td>\n",
       "      <td>1</td>\n",
       "      <td>TRAVRKY128F429EA68</td>\n",
       "      <td>The New Pornographers</td>\n",
       "      <td>Loose Translation</td>\n",
       "    </tr>\n",
       "    <tr>\n",
       "      <th>5132395</th>\n",
       "      <td>dd4e6c69ccf01d73e9f3802b0c5517d185627e4b</td>\n",
       "      <td>SOHHOSA12A6D4FD28F</td>\n",
       "      <td>1</td>\n",
       "      <td>TRWQCJT128F4242797</td>\n",
       "      <td>Silversun Pickups</td>\n",
       "      <td>Kissing Families (Album Version)</td>\n",
       "    </tr>\n",
       "    <tr>\n",
       "      <th>5132396</th>\n",
       "      <td>dd4e6c69ccf01d73e9f3802b0c5517d185627e4b</td>\n",
       "      <td>SOHHSYJ12AB017F40A</td>\n",
       "      <td>3</td>\n",
       "      <td>TRQWDNH128F93173BE</td>\n",
       "      <td>Metric</td>\n",
       "      <td>Twilight Galaxy</td>\n",
       "    </tr>\n",
       "  </tbody>\n",
       "</table>\n",
       "<p>5132397 rows × 6 columns</p>\n",
       "</div>"
      ],
      "text/plain": [
       "                                          user_id             song_id  count  \\\n",
       "0        b80344d063b5ccb3212f76538f3d9e43d87dca9e  SOAKIMP12A8C130995      1   \n",
       "1        b80344d063b5ccb3212f76538f3d9e43d87dca9e  SOAPDEY12A81C210A9      1   \n",
       "2        b80344d063b5ccb3212f76538f3d9e43d87dca9e  SOBBMDR12A8C13253B      2   \n",
       "3        b80344d063b5ccb3212f76538f3d9e43d87dca9e  SOBFNSP12AF72A0E22      1   \n",
       "4        b80344d063b5ccb3212f76538f3d9e43d87dca9e  SOBFOVM12A58A7D494      1   \n",
       "5        b80344d063b5ccb3212f76538f3d9e43d87dca9e  SOBNZDC12A6D4FC103      1   \n",
       "6        b80344d063b5ccb3212f76538f3d9e43d87dca9e  SOBSUJE12A6D4F8CF5      2   \n",
       "7        b80344d063b5ccb3212f76538f3d9e43d87dca9e  SOBVFZR12A6D4F8AE3      1   \n",
       "8        b80344d063b5ccb3212f76538f3d9e43d87dca9e  SOBXALG12A8C13C108      1   \n",
       "9        b80344d063b5ccb3212f76538f3d9e43d87dca9e  SOBXHDL12A81C204C0      1   \n",
       "10       b80344d063b5ccb3212f76538f3d9e43d87dca9e  SOBXHDL12A81C204C0      1   \n",
       "11       b80344d063b5ccb3212f76538f3d9e43d87dca9e  SOBYHAJ12A6701BF1D      1   \n",
       "12       b80344d063b5ccb3212f76538f3d9e43d87dca9e  SOCNMUH12A6D4F6E6D      1   \n",
       "13       b80344d063b5ccb3212f76538f3d9e43d87dca9e  SODACBL12A8C13C273      1   \n",
       "14       b80344d063b5ccb3212f76538f3d9e43d87dca9e  SODDNQT12A6D4F5F7E      5   \n",
       "15       b80344d063b5ccb3212f76538f3d9e43d87dca9e  SODXRTY12AB0180F3B      1   \n",
       "16       b80344d063b5ccb3212f76538f3d9e43d87dca9e  SODZWFT12A8C13C0E4      1   \n",
       "17       b80344d063b5ccb3212f76538f3d9e43d87dca9e  SOEGVZY12A58A7857E      1   \n",
       "18       b80344d063b5ccb3212f76538f3d9e43d87dca9e  SOEKWEA12A6D4F5DC3      1   \n",
       "19       b80344d063b5ccb3212f76538f3d9e43d87dca9e  SOEOBYG12A6D4F8AE2      1   \n",
       "20       b80344d063b5ccb3212f76538f3d9e43d87dca9e  SOEWFWM12A8C1308BA      1   \n",
       "21       b80344d063b5ccb3212f76538f3d9e43d87dca9e  SOFFJPX12A6D4F7456      1   \n",
       "22       b80344d063b5ccb3212f76538f3d9e43d87dca9e  SOFGUAY12AB017B0A8      1   \n",
       "23       b80344d063b5ccb3212f76538f3d9e43d87dca9e  SOFRQTD12A81C233C0      1   \n",
       "24       b80344d063b5ccb3212f76538f3d9e43d87dca9e  SOFTKSZ12A6D4F5DC5      1   \n",
       "25       b80344d063b5ccb3212f76538f3d9e43d87dca9e  SOFZFQU12A8C13CAB8      1   \n",
       "26       b80344d063b5ccb3212f76538f3d9e43d87dca9e  SOGJAOS12A6D4F7459      1   \n",
       "27       b80344d063b5ccb3212f76538f3d9e43d87dca9e  SOHQIAG12A8C136F64      1   \n",
       "28       b80344d063b5ccb3212f76538f3d9e43d87dca9e  SOHQWYZ12A6D4FA701      1   \n",
       "29       b80344d063b5ccb3212f76538f3d9e43d87dca9e  SOHQZCA12A6D4FB317      1   \n",
       "...                                           ...                 ...    ...   \n",
       "5132367  dd4e6c69ccf01d73e9f3802b0c5517d185627e4b  SOESVXY12A6702095C      3   \n",
       "5132368  dd4e6c69ccf01d73e9f3802b0c5517d185627e4b  SOESYMP12AB0186BD5      2   \n",
       "5132369  dd4e6c69ccf01d73e9f3802b0c5517d185627e4b  SOEXEYP12A81C20BFF      1   \n",
       "5132370  dd4e6c69ccf01d73e9f3802b0c5517d185627e4b  SOEXIAZ12AB0181E02      1   \n",
       "5132371  dd4e6c69ccf01d73e9f3802b0c5517d185627e4b  SOFBLCI12A8C13609B      1   \n",
       "5132372  dd4e6c69ccf01d73e9f3802b0c5517d185627e4b  SOFEHHL12A58A765C3      1   \n",
       "5132373  dd4e6c69ccf01d73e9f3802b0c5517d185627e4b  SOFHEAN12AB018A760      1   \n",
       "5132374  dd4e6c69ccf01d73e9f3802b0c5517d185627e4b  SOFKYDZ12AB017F425      1   \n",
       "5132375  dd4e6c69ccf01d73e9f3802b0c5517d185627e4b  SOFNJDS12A6D4FD150      1   \n",
       "5132376  dd4e6c69ccf01d73e9f3802b0c5517d185627e4b  SOFRPBZ12A8C141E96      1   \n",
       "5132377  dd4e6c69ccf01d73e9f3802b0c5517d185627e4b  SOFUBCQ12A6D4FA374      1   \n",
       "5132378  dd4e6c69ccf01d73e9f3802b0c5517d185627e4b  SOFWLRF12AB017F405      2   \n",
       "5132379  dd4e6c69ccf01d73e9f3802b0c5517d185627e4b  SOFXWBG12A6D4F74BE      1   \n",
       "5132380  dd4e6c69ccf01d73e9f3802b0c5517d185627e4b  SOFYFAB12A6D4FD9E2      1   \n",
       "5132381  dd4e6c69ccf01d73e9f3802b0c5517d185627e4b  SOGCKKF12A58A7BDB7      1   \n",
       "5132382  dd4e6c69ccf01d73e9f3802b0c5517d185627e4b  SOGCLVE12A6D4FD9D4      3   \n",
       "5132383  dd4e6c69ccf01d73e9f3802b0c5517d185627e4b  SOGFUFK12AB0185350      2   \n",
       "5132384  dd4e6c69ccf01d73e9f3802b0c5517d185627e4b  SOGGWUC12A6D4FD9E6      2   \n",
       "5132385  dd4e6c69ccf01d73e9f3802b0c5517d185627e4b  SOGHLYE12A8C136CF7      1   \n",
       "5132386  dd4e6c69ccf01d73e9f3802b0c5517d185627e4b  SOGKPJY12A6D4F573A      1   \n",
       "5132387  dd4e6c69ccf01d73e9f3802b0c5517d185627e4b  SOGMZKS12A8C13B4E9      1   \n",
       "5132388  dd4e6c69ccf01d73e9f3802b0c5517d185627e4b  SOGNTPS12A8C13B937      2   \n",
       "5132389  dd4e6c69ccf01d73e9f3802b0c5517d185627e4b  SOGOMEI12A67ADE989      1   \n",
       "5132390  dd4e6c69ccf01d73e9f3802b0c5517d185627e4b  SOGSMPQ12AB01830C1      1   \n",
       "5132391  dd4e6c69ccf01d73e9f3802b0c5517d185627e4b  SOHAGQS12A8C13F240      1   \n",
       "5132392  dd4e6c69ccf01d73e9f3802b0c5517d185627e4b  SOHFWNY12A6D4F9FB2      2   \n",
       "5132393  dd4e6c69ccf01d73e9f3802b0c5517d185627e4b  SOHGLKT12A8C13AF29      1   \n",
       "5132394  dd4e6c69ccf01d73e9f3802b0c5517d185627e4b  SOHHCZG12A8C13C96E      1   \n",
       "5132395  dd4e6c69ccf01d73e9f3802b0c5517d185627e4b  SOHHOSA12A6D4FD28F      1   \n",
       "5132396  dd4e6c69ccf01d73e9f3802b0c5517d185627e4b  SOHHSYJ12AB017F40A      3   \n",
       "\n",
       "                   track_id                                       author  \\\n",
       "0        TRIQAUQ128F42435AD                                 Jack Johnson   \n",
       "1        TRIRLYL128F42539D1                                Billy Preston   \n",
       "2        TRMHBXZ128F4238406                                Paco De Lucia   \n",
       "3        TRYQMNI128F147C1C7                                   Josh Rouse   \n",
       "4        TRAHZNE128F9341B86                                 The Dead 60s   \n",
       "5        TRJPXGD128F92F17D7                                        Amset   \n",
       "6        TRPLAXZ128F4292406                                Jorge Drexler   \n",
       "7        TREGAVI128F147C1CA                                   Josh Rouse   \n",
       "8        TRZYZWL128F4277AD2                              Eric Hutchinson   \n",
       "9        TRHNCIR128F42334A5                                   Kanye West   \n",
       "10       TRUATNS128F423457D                                   Kanye West   \n",
       "11       TRYBNIB128F428E704                                 Jack Johnson   \n",
       "12       TRGOSGL128F1471533                                       Zero 7   \n",
       "13       TRKRHYM128F42934A9                                 Foo Fighters   \n",
       "14       TRPTWGR128F1452734                          Héroes del Silencio   \n",
       "15       TRFUPBA128F934F7E1                                    Lady GaGa   \n",
       "16       TRNRDZV128F4277AC9                              Eric Hutchinson   \n",
       "17       TRKEXHB128F147C1C4                                   Josh Rouse   \n",
       "18       TRWECMU128F1459198                                   Ayub Ogada   \n",
       "19       TRIBEAC128F147C1C8                                   Josh Rouse   \n",
       "20       TRLQPQJ128F42AA94F                                  Gipsy Kings   \n",
       "21       TRDWQHL128F147BD31                                   Josh Rouse   \n",
       "22       TRTUCUY128F92E1D24                                 Foo Fighters   \n",
       "23       TRDMBIJ128F4290431                                     Harmonia   \n",
       "24       TRRLJTU128F145919A                                   Ayub Ogada   \n",
       "25       TRAWUXF128F9341B9C                                    Army Navy   \n",
       "26       TRVIXHO128F92C68A6                                   Josh Rouse   \n",
       "27       TRISTCY12903CD6D50                                   Josh Rouse   \n",
       "28       TRHDDQG12903CB53EE  Thievery Corporation feat. Emiliana Torrini   \n",
       "29       TRBJALT12903CB2529                           + / - {Plus/Minus}   \n",
       "...                     ...                                          ...   \n",
       "5132367  TRSJRJI128F9304171                                          AFI   \n",
       "5132368  TRUKWKA12903CC49CC                                     Galactic   \n",
       "5132369  TRWIPAR128F4251B95                              Aretha Franklin   \n",
       "5132370  TRLOOTY128F932B6E1                            Silversun Pickups   \n",
       "5132371  TRZOSTR128F4263D91                 Sharon Jones & The Dap-Kings   \n",
       "5132372  TRDGUSQ128F42BA7D8                                  Young Jeezy   \n",
       "5132373  TRYPUCK12903CE7BE9                                      Ratatat   \n",
       "5132374  TRQIBME128F93173C5                                       Metric   \n",
       "5132375  TRGRBFM128F421BD5D                         Confederate Railroad   \n",
       "5132376  TRYRYCT128F92E4457                                          Sia   \n",
       "5132377  TRJHRBD128F92DFE8B                                 Jaga Jazzist   \n",
       "5132378  TRDLCNU128F93173BD                                       Metric   \n",
       "5132379  TRUIECJ128F14531E8                                        Stars   \n",
       "5132380  TRHWBYL128F422310E                        The Devil Makes Three   \n",
       "5132381  TRNUTKF128F423BE1C                                    Pennywise   \n",
       "5132382  TRUEVBR128F422310A                        The Devil Makes Three   \n",
       "5132383  TRNONRP128F93269E9                             The Decemberists   \n",
       "5132384  TRPQCSR128F422310F                        The Devil Makes Three   \n",
       "5132385  TRWAXTO128F429568A                                   Home Video   \n",
       "5132386  TRPSOIT128F147A026                                          AFI   \n",
       "5132387  TRRLBJI128F428A1E9                             Dropkick Murphys   \n",
       "5132388  TRTCQUM128F4289D54                            Silversun Pickups   \n",
       "5132389  TRAKKFK128F14A895A                                  Arcade Fire   \n",
       "5132390  TRCDWTE128F9345FE9                             Xploding Plastix   \n",
       "5132391  TRSSSOD128F9306692                                  Carla Bruni   \n",
       "5132392  TRTDGUW128F1497BC8                          My Chemical Romance   \n",
       "5132393  TRAPZJQ128F428A022                             Dropkick Murphys   \n",
       "5132394  TRAVRKY128F429EA68                        The New Pornographers   \n",
       "5132395  TRWQCJT128F4242797                            Silversun Pickups   \n",
       "5132396  TRQWDNH128F93173BE                                       Metric   \n",
       "\n",
       "                                                     title  \n",
       "0                                                 The Cove  \n",
       "1                                     Nothing from Nothing  \n",
       "2                                          Entre Dos Aguas  \n",
       "3                                    Under Cold Blue Stars  \n",
       "4                          Riot Radio (Soundtrack Version)  \n",
       "5                                          Sin límites (I)  \n",
       "6                                 12 segundos de oscuridad  \n",
       "7                       Ears To The Ground (Album Version)  \n",
       "8                               Food Chain (Album Version)  \n",
       "9                                                 Stronger  \n",
       "10                                                Stronger  \n",
       "11                                          Constellations  \n",
       "12                         You're My Flame [Album Version]  \n",
       "13                                            Learn To Fly  \n",
       "14                            Apuesta Por El Rock 'N' Roll  \n",
       "15                                           Paper Gangsta  \n",
       "16            You Don't Have To Believe Me (Album Version)  \n",
       "17                               Nothing Gives Me Pleasure  \n",
       "18                                                    Dala  \n",
       "19                                            Ugly Stories  \n",
       "20                                                     Soy  \n",
       "21                                  Winter In The Hamptons  \n",
       "22                                          Stacked Actors  \n",
       "23                                           Sehr kosmisch  \n",
       "24                                            Thum Nyatiti  \n",
       "25                           Silvery Sleds (Album Version)  \n",
       "26                                        My Love Has Gone  \n",
       "27                                   Hollywood Bass Player  \n",
       "28                           Heaven's gonna burn your eyes  \n",
       "29                                               Leap Year  \n",
       "...                                                    ...  \n",
       "5132367                                   The Leaving Song  \n",
       "5132368  Liquor Pang (featuring Josh Cohen and Ryan Scu...  \n",
       "5132369                                     Hello Sunshine  \n",
       "5132370             There's No Secrets This Year (UK Edit)  \n",
       "5132371                                   Fish In The Dish  \n",
       "5132372                                        Crazy World  \n",
       "5132373                                              Drugs  \n",
       "5132374                                       Stadium Love  \n",
       "5132375         She Never Cried (Remastered Album Version)  \n",
       "5132376                                         Little Man  \n",
       "5132377                                                Day  \n",
       "5132378                                     Satellite Mind  \n",
       "5132379              Your Ex-Lover Is Dead (Album Version)  \n",
       "5132380                                         The Bullet  \n",
       "5132381                            Nothing To Lose (Album)  \n",
       "5132382                                   Old Number Seven  \n",
       "5132383                            Shanty for the Arethusa  \n",
       "5132384                                      For My Family  \n",
       "5132385                                            Pidpunk  \n",
       "5132386                                       Kill Caustic  \n",
       "5132387                     The Wild Rover (Album Version)  \n",
       "5132388                                        Waste It On  \n",
       "5132389                        The Well And The Lighthouse  \n",
       "5132390                     Doubletalk Gets Through To You  \n",
       "5132391             If You Were Coming In The Fall (Album)  \n",
       "5132392                My Way Home Is Through You [B-Side]  \n",
       "5132393                       Going Strong (Album Version)  \n",
       "5132394                                  Loose Translation  \n",
       "5132395                   Kissing Families (Album Version)  \n",
       "5132396                                    Twilight Galaxy  \n",
       "\n",
       "[5132397 rows x 6 columns]"
      ]
     },
     "execution_count": 11,
     "metadata": {},
     "output_type": "execute_result"
    }
   ],
   "source": [
    "unique_tracks = pd.read_csv('unique_tracks.txt', sep='<SEP>', names=['track_id', 'song_id', 'author', 'title'])\n",
    "song_triplets.merge(unique_tracks, on='song_id', how='left')"
   ]
  },
  {
   "cell_type": "markdown",
   "metadata": {
    "deletable": true,
    "editable": true
   },
   "source": [
    "Let's see how many users and songs the dataset has."
   ]
  },
  {
   "cell_type": "code",
   "execution_count": 34,
   "metadata": {
    "collapsed": false,
    "deletable": true,
    "editable": true
   },
   "outputs": [
    {
     "name": "stdout",
     "output_type": "stream",
     "text": [
      "Number of unique users: 104474\n",
      "Number of unique songs: 386213\n"
     ]
    }
   ],
   "source": [
    "print \"Number of unique users:\", len(song_triplets['user_id'].unique())\n",
    "print \"Number of unique songs:\", pd.read_csv('kaggle_songs.txt', sep='\\t', names=['song_id', 'index']).shape[0]"
   ]
  },
  {
   "cell_type": "markdown",
   "metadata": {
    "deletable": true,
    "editable": true
   },
   "source": [
    "The data is quite simple, we have the classic interaction between users and items, in addition to some song information such as the author and title. We are ready to move on to building the recommender systems."
   ]
  },
  {
   "cell_type": "markdown",
   "metadata": {
    "deletable": true,
    "editable": true
   },
   "source": [
    "## 2. Recommender Systems benchmarking"
   ]
  },
  {
   "cell_type": "markdown",
   "metadata": {
    "deletable": true,
    "editable": true
   },
   "source": [
    "In this section we are going to build several recommender systems using different algorithms to compare them and choose our best option. When it comes to building a recommender system for a web service there are several things that we should take into account:\n",
    "* **Accuracy**: of course, we want our recommender system to recommend truly interesting items so that we can keep the user engaged using our system (in this case a music player, such as Spotify). To measure this we are going to use the two more classic metrics: precision and recall.\n",
    "* **Response time**: as it is a web service it should return the recommendations very quickly, say less than a second. This is crucial, since we can build very complex and sophisticated recommender systems with a very high accuracy, but with a very poor performance. Imagine that you are a user using Spotify, you ask the system to make some recommendations for you and it takes more than 3 seconds to get the response. You will probably leave the system and start doing other thing. To succeed in engaging the user, it is pivotal that the recommendations are given in a very short time.\n",
    "* **Updatable**: as previously mentioned, there are several recommender algorithms that can be used, for some of them the update is straightforward, while for others it is not that simple. This is very important to consider, since our recommender should be continuously updated so that the last interactions that a user has are also taken into account for the recommendation.\n",
    "* **Time to build the recommender**: very related to the previous point is the time to create the recommender system. If the system is not updatable very easily, we will have to re-build the system periodically, so it is quite important to consider how much time requires such task.\n",
    "* **Memory usage**: Most of the recommender systems work on memory in order to return a recommendation very quickly. However, if we don't have a great amount of memory available, this turns out to be a very bothering feature that we should also take into account.\n",
    "\n",
    "Now that we have defined all the variables to look at when we make the comparison, we will split the dataset into a training set, which we will use to create the recommender, and test set, which will be used to get the metrics.\n",
    "\n",
    "For this section we will use [GraphLab Create](turi.com/) which is a very handy library that implements very efficient Machine Learning algorithms. It provides an academic license which I obtained when I fulfilled the [Machine Learning Specialization](www.coursera.org/specializations/machine-learning). GraphLab provides a set of different implementations for recommender systems, all of which are very efficient in terms of memory and they also provide a method called *recommend* on which it is possible to specify new observation data which is very handy for getting an updated recommendation."
   ]
  },
  {
   "cell_type": "code",
   "execution_count": 20,
   "metadata": {
    "collapsed": false,
    "deletable": true,
    "editable": true
   },
   "outputs": [],
   "source": [
    "import graphlab as gl\n",
    "song_triplets = gl.SFrame.read_csv('train_triplets.txt', nrows=5000000, delimiter='\\t', verbose=False, header=False)\n",
    "song_triplets = song_triplets.rename({'X1': 'user_id', 'X2': 'song_id', 'X3':'count'})\n",
    "training_data, validation_data = gl.recommender.util.random_split_by_user(song_triplets, 'user_id', 'song_id', \n",
    "                                                                            max_num_users=75000, random_seed=0)"
   ]
  },
  {
   "cell_type": "markdown",
   "metadata": {
    "deletable": true,
    "editable": true
   },
   "source": [
    "Let's see how many rows we have for each set."
   ]
  },
  {
   "cell_type": "code",
   "execution_count": 21,
   "metadata": {
    "collapsed": false,
    "deletable": true,
    "editable": true
   },
   "outputs": [
    {
     "name": "stdout",
     "output_type": "stream",
     "text": [
      "Training length: 4282570\n",
      "Validation length: 717430\n"
     ]
    }
   ],
   "source": [
    "print \"Training length:\", training_data.shape[0]\n",
    "print \"Validation length:\", validation_data.shape[0]"
   ]
  },
  {
   "cell_type": "markdown",
   "metadata": {
    "deletable": true,
    "editable": true
   },
   "source": [
    "Approximately 15% of the dataset is used for testing them which is the common distribution.\n",
    "\n",
    "Now it's time to build our first model! \n",
    "\n",
    "#### 2.1. Popularity recommender\n",
    "\n",
    "Let's start by the simplest recommender possible: popularity recommender. Basically it recommends the most similar songs to each user. There is no personalization, nor intelligence behind this model."
   ]
  },
  {
   "cell_type": "code",
   "execution_count": 24,
   "metadata": {
    "collapsed": false,
    "deletable": true,
    "editable": true
   },
   "outputs": [
    {
     "data": {
      "text/html": [
       "<pre>Recsys training: model = popularity</pre>"
      ],
      "text/plain": [
       "Recsys training: model = popularity"
      ]
     },
     "metadata": {},
     "output_type": "display_data"
    },
    {
     "name": "stdout",
     "output_type": "stream",
     "text": [
      "Time to create the recommeder: 3.8022840023\n"
     ]
    }
   ],
   "source": [
    "ini = time.time()\n",
    "m = gl.recommender.popularity_recommender.create(observation_data=training_data, item_id='song_id', \n",
    "                                                 user_id='user_id', verbose=False)\n",
    "print \"Time to create the recommeder:\", time.time()-ini"
   ]
  },
  {
   "cell_type": "markdown",
   "metadata": {
    "deletable": true,
    "editable": true
   },
   "source": [
    "Quite fast, isn't it? Let's now take a look to all the other variables that we are analysing."
   ]
  },
  {
   "cell_type": "code",
   "execution_count": 25,
   "metadata": {
    "collapsed": false,
    "deletable": true,
    "editable": true
   },
   "outputs": [
    {
     "name": "stdout",
     "output_type": "stream",
     "text": [
      "Time to return a recommendation: 0.0277328491211\n"
     ]
    }
   ],
   "source": [
    "ini = time.time()\n",
    "m.recommend(users=[training_data['user_id'][0]], k=10)\n",
    "print \"Time to return a recommendation:\", time.time()-ini"
   ]
  },
  {
   "cell_type": "code",
   "execution_count": 29,
   "metadata": {
    "collapsed": false,
    "deletable": true,
    "editable": true,
    "scrolled": true
   },
   "outputs": [
    {
     "data": {
      "text/plain": [
       "{'precision_recall_by_user': Columns:\n",
       " \tuser_id\tstr\n",
       " \tcutoff\tint\n",
       " \tprecision\tfloat\n",
       " \trecall\tfloat\n",
       " \tcount\tint\n",
       " \n",
       " Rows: 1326708\n",
       " \n",
       " Data:\n",
       " +-------------------------------+--------+-----------+--------+-------+\n",
       " |            user_id            | cutoff | precision | recall | count |\n",
       " +-------------------------------+--------+-----------+--------+-------+\n",
       " | 00003a4459f33b92906be11abe... |   1    |    0.0    |  0.0   |   4   |\n",
       " | 00003a4459f33b92906be11abe... |   2    |    0.0    |  0.0   |   4   |\n",
       " | 00003a4459f33b92906be11abe... |   3    |    0.0    |  0.0   |   4   |\n",
       " | 00003a4459f33b92906be11abe... |   4    |    0.0    |  0.0   |   4   |\n",
       " | 00003a4459f33b92906be11abe... |   5    |    0.0    |  0.0   |   4   |\n",
       " | 00003a4459f33b92906be11abe... |   6    |    0.0    |  0.0   |   4   |\n",
       " | 00003a4459f33b92906be11abe... |   7    |    0.0    |  0.0   |   4   |\n",
       " | 00003a4459f33b92906be11abe... |   8    |    0.0    |  0.0   |   4   |\n",
       " | 00003a4459f33b92906be11abe... |   9    |    0.0    |  0.0   |   4   |\n",
       " | 00003a4459f33b92906be11abe... |   10   |    0.0    |  0.0   |   4   |\n",
       " +-------------------------------+--------+-----------+--------+-------+\n",
       " [1326708 rows x 5 columns]\n",
       " Note: Only the head of the SFrame is printed.\n",
       " You can use print_rows(num_rows=m, num_columns=n) to print more rows and columns.,\n",
       " 'precision_recall_overall': Columns:\n",
       " \tcutoff\tint\n",
       " \tprecision\tfloat\n",
       " \trecall\tfloat\n",
       " \n",
       " Rows: 18\n",
       " \n",
       " Data:\n",
       " +--------+-----------------+------------------+\n",
       " | cutoff |    precision    |      recall      |\n",
       " +--------+-----------------+------------------+\n",
       " |   1    | 0.0331859007408 | 0.00507917634182 |\n",
       " |   2    | 0.0305266871082 | 0.00933394946717 |\n",
       " |   3    | 0.0295317432321 | 0.0135340713094  |\n",
       " |   4    | 0.0272399804629 | 0.0166965883072  |\n",
       " |   5    | 0.0253059452419 | 0.0192046291146  |\n",
       " |   6    | 0.0237949872919 | 0.0216282443716  |\n",
       " |   7    | 0.0226750293638 | 0.0239688932993  |\n",
       " |   8    | 0.0216213741079 | 0.0259742392419  |\n",
       " |   9    | 0.0207264899285 | 0.0278797853847  |\n",
       " |   10   | 0.0199617398855 | 0.0296136583929  |\n",
       " +--------+-----------------+------------------+\n",
       " [18 rows x 3 columns]\n",
       " Note: Only the head of the SFrame is printed.\n",
       " You can use print_rows(num_rows=m, num_columns=n) to print more rows and columns.}"
      ]
     },
     "execution_count": 29,
     "metadata": {},
     "output_type": "execute_result"
    }
   ],
   "source": [
    "m.evaluate_precision_recall(validation_data, verbose=False)"
   ]
  },
  {
   "cell_type": "markdown",
   "metadata": {
    "deletable": true,
    "editable": true
   },
   "source": [
    "As we can see the time to create this recommender is pretty low, so is the time to give a recommendation. However, the precision and recall are not that high: only 3% of precision for the first recommendation or recommendation at 1. This is a very \n",
    "\n",
    "Let's now see a little more complex model far more suitable for this dataset: Item-Based recommender system.\n",
    "\n",
    "#### 2.2. Item-Based recommender system\n",
    "\n",
    "When we are in a situtation where the number of users are greater than the number of songs it is advisable to create an item-item recommender system. We will talk more about this model later when we build it. GraphLab provides an implementation for such model, and it is very configurable for the data we are dealing with (see the [API documentation](https://turi.com/products/create/docs/generated/graphlab.recommender.item_similarity_recommender.create.html#graphlab.recommender.item_similarity_recommender.create) for more details). One of such configurations is the distance that we want to use, by default is the jaccard similarity. Let's start using the *cosine* similarity."
   ]
  },
  {
   "cell_type": "code",
   "execution_count": 35,
   "metadata": {
    "collapsed": false,
    "deletable": true,
    "editable": true
   },
   "outputs": [
    {
     "data": {
      "text/html": [
       "<pre>Recsys training: model = item_similarity</pre>"
      ],
      "text/plain": [
       "Recsys training: model = item_similarity"
      ]
     },
     "metadata": {},
     "output_type": "display_data"
    },
    {
     "name": "stdout",
     "output_type": "stream",
     "text": [
      "Time to create the recommeder: 46.616230011\n"
     ]
    }
   ],
   "source": [
    "ini = time.time()\n",
    "m = gl.recommender.item_similarity_recommender.create(observation_data=training_data, item_id='song_id',\n",
    "                                                      user_id='user_id', target='count',\n",
    "                                                      similarity_type='cosine', verbose=False)\n",
    "print \"Time to create the recommeder:\", time.time()-ini"
   ]
  },
  {
   "cell_type": "markdown",
   "metadata": {
    "deletable": true,
    "editable": true
   },
   "source": [
    "Despite the fact that it isn't as fast as the previous one, creating a model in less than a minute is really fast. Let's see the time to make recommendations"
   ]
  },
  {
   "cell_type": "code",
   "execution_count": 38,
   "metadata": {
    "collapsed": false,
    "deletable": true,
    "editable": true
   },
   "outputs": [
    {
     "name": "stdout",
     "output_type": "stream",
     "text": [
      "Time to return a recommendation: 0.0313990116119\n"
     ]
    }
   ],
   "source": [
    "ini = time.time()\n",
    "m.recommend(users=[training_data['user_id'][0]], k=10)\n",
    "print \"Time to return a recommendation:\", time.time()-ini"
   ]
  },
  {
   "cell_type": "markdown",
   "metadata": {
    "deletable": true,
    "editable": true
   },
   "source": [
    "Quite fast! Let's see the precision and recall."
   ]
  },
  {
   "cell_type": "code",
   "execution_count": 39,
   "metadata": {
    "collapsed": false,
    "deletable": true,
    "editable": true,
    "scrolled": true
   },
   "outputs": [
    {
     "data": {
      "text/plain": [
       "{'precision_recall_by_user': Columns:\n",
       " \tuser_id\tstr\n",
       " \tcutoff\tint\n",
       " \tprecision\tfloat\n",
       " \trecall\tfloat\n",
       " \tcount\tint\n",
       " \n",
       " Rows: 1326708\n",
       " \n",
       " Data:\n",
       " +-------------------------------+--------+-----------+--------+-------+\n",
       " |            user_id            | cutoff | precision | recall | count |\n",
       " +-------------------------------+--------+-----------+--------+-------+\n",
       " | 00003a4459f33b92906be11abe... |   1    |    0.0    |  0.0   |   4   |\n",
       " | 00003a4459f33b92906be11abe... |   2    |    0.0    |  0.0   |   4   |\n",
       " | 00003a4459f33b92906be11abe... |   3    |    0.0    |  0.0   |   4   |\n",
       " | 00003a4459f33b92906be11abe... |   4    |    0.0    |  0.0   |   4   |\n",
       " | 00003a4459f33b92906be11abe... |   5    |    0.0    |  0.0   |   4   |\n",
       " | 00003a4459f33b92906be11abe... |   6    |    0.0    |  0.0   |   4   |\n",
       " | 00003a4459f33b92906be11abe... |   7    |    0.0    |  0.0   |   4   |\n",
       " | 00003a4459f33b92906be11abe... |   8    |    0.0    |  0.0   |   4   |\n",
       " | 00003a4459f33b92906be11abe... |   9    |    0.0    |  0.0   |   4   |\n",
       " | 00003a4459f33b92906be11abe... |   10   |    0.0    |  0.0   |   4   |\n",
       " +-------------------------------+--------+-----------+--------+-------+\n",
       " [1326708 rows x 5 columns]\n",
       " Note: Only the head of the SFrame is printed.\n",
       " You can use print_rows(num_rows=m, num_columns=n) to print more rows and columns.,\n",
       " 'precision_recall_overall': Columns:\n",
       " \tcutoff\tint\n",
       " \tprecision\tfloat\n",
       " \trecall\tfloat\n",
       " \n",
       " Rows: 18\n",
       " \n",
       " Data:\n",
       " +--------+-----------------+------------------+\n",
       " | cutoff |    precision    |      recall      |\n",
       " +--------+-----------------+------------------+\n",
       " |   1    |  0.01636230429  | 0.00278023556242 |\n",
       " |   2    | 0.0194081892926 | 0.0065820210666  |\n",
       " |   3    | 0.0215269675015 | 0.0108069415084  |\n",
       " |   4    | 0.0224540742952 | 0.0148950944407  |\n",
       " |   5    | 0.0229207934225 | 0.0188136936791  |\n",
       " |   6    |  0.023220633327 | 0.0226702672433  |\n",
       " |   7    | 0.0233941024379 |  0.026546731049  |\n",
       " |   8    | 0.0233919219602 | 0.0300236721032  |\n",
       " |   9    | 0.0232213870724 | 0.0332885125616  |\n",
       " |   10   | 0.0229967709549 | 0.0363723317858  |\n",
       " +--------+-----------------+------------------+\n",
       " [18 rows x 3 columns]\n",
       " Note: Only the head of the SFrame is printed.\n",
       " You can use print_rows(num_rows=m, num_columns=n) to print more rows and columns.}"
      ]
     },
     "execution_count": 39,
     "metadata": {},
     "output_type": "execute_result"
    }
   ],
   "source": [
    "m.evaluate_precision_recall(validation_data, verbose=False)"
   ]
  },
  {
   "cell_type": "markdown",
   "metadata": {
    "deletable": true,
    "editable": true
   },
   "source": [
    "It takes more time to be built than the baseline, and its performance in terms of accuracy is poorer. Clearly, we should leave this version and try with another option.\n",
    "\n",
    "Let's now try with the pearson similarity to see if the accuracy gets higher."
   ]
  },
  {
   "cell_type": "code",
   "execution_count": 40,
   "metadata": {
    "collapsed": false,
    "deletable": true,
    "editable": true
   },
   "outputs": [
    {
     "data": {
      "text/html": [
       "<pre>Recsys training: model = item_similarity</pre>"
      ],
      "text/plain": [
       "Recsys training: model = item_similarity"
      ]
     },
     "metadata": {},
     "output_type": "display_data"
    },
    {
     "name": "stdout",
     "output_type": "stream",
     "text": [
      "Time to create the recommeder: 39.0279419422\n"
     ]
    }
   ],
   "source": [
    "ini = time.time()\n",
    "m = gl.recommender.item_similarity_recommender.create(observation_data=training_data, item_id='song_id',\n",
    "                                                      user_id='user_id', target='count',\n",
    "                                                      similarity_type='pearson', verbose=False)\n",
    "print \"Time to create the recommeder:\", time.time()-ini"
   ]
  },
  {
   "cell_type": "code",
   "execution_count": 41,
   "metadata": {
    "collapsed": false,
    "deletable": true,
    "editable": true,
    "scrolled": true
   },
   "outputs": [
    {
     "data": {
      "text/plain": [
       "{'precision_recall_by_user': Columns:\n",
       " \tuser_id\tstr\n",
       " \tcutoff\tint\n",
       " \tprecision\tfloat\n",
       " \trecall\tfloat\n",
       " \tcount\tint\n",
       " \n",
       " Rows: 1326708\n",
       " \n",
       " Data:\n",
       " +-------------------------------+--------+-----------+--------+-------+\n",
       " |            user_id            | cutoff | precision | recall | count |\n",
       " +-------------------------------+--------+-----------+--------+-------+\n",
       " | 00003a4459f33b92906be11abe... |   1    |    0.0    |  0.0   |   4   |\n",
       " | 00003a4459f33b92906be11abe... |   2    |    0.0    |  0.0   |   4   |\n",
       " | 00003a4459f33b92906be11abe... |   3    |    0.0    |  0.0   |   4   |\n",
       " | 00003a4459f33b92906be11abe... |   4    |    0.0    |  0.0   |   4   |\n",
       " | 00003a4459f33b92906be11abe... |   5    |    0.0    |  0.0   |   4   |\n",
       " | 00003a4459f33b92906be11abe... |   6    |    0.0    |  0.0   |   4   |\n",
       " | 00003a4459f33b92906be11abe... |   7    |    0.0    |  0.0   |   4   |\n",
       " | 00003a4459f33b92906be11abe... |   8    |    0.0    |  0.0   |   4   |\n",
       " | 00003a4459f33b92906be11abe... |   9    |    0.0    |  0.0   |   4   |\n",
       " | 00003a4459f33b92906be11abe... |   10   |    0.0    |  0.0   |   4   |\n",
       " +-------------------------------+--------+-----------+--------+-------+\n",
       " [1326708 rows x 5 columns]\n",
       " Note: Only the head of the SFrame is printed.\n",
       " You can use print_rows(num_rows=m, num_columns=n) to print more rows and columns.,\n",
       " 'precision_recall_overall': Columns:\n",
       " \tcutoff\tint\n",
       " \tprecision\tfloat\n",
       " \trecall\tfloat\n",
       " \n",
       " Rows: 18\n",
       " \n",
       " Data:\n",
       " +--------+-------------------+-------------------+\n",
       " | cutoff |     precision     |       recall      |\n",
       " +--------+-------------------+-------------------+\n",
       " |   1    |        0.0        |        0.0        |\n",
       " |   2    |        0.0        |        0.0        |\n",
       " |   3    |        0.0        |        0.0        |\n",
       " |   4    | 3.39185412314e-06 | 9.69101178039e-07 |\n",
       " |   5    | 8.14044989553e-06 | 8.46688397655e-06 |\n",
       " |   6    | 6.78370824628e-06 | 8.46688397655e-06 |\n",
       " |   7    | 5.81460706824e-06 | 8.46688397655e-06 |\n",
       " |   8    | 5.08778118471e-06 | 8.46688397655e-06 |\n",
       " |   9    | 4.52247216418e-06 | 8.46688397655e-06 |\n",
       " |   10   | 4.07022494777e-06 | 8.46688397655e-06 |\n",
       " +--------+-------------------+-------------------+\n",
       " [18 rows x 3 columns]\n",
       " Note: Only the head of the SFrame is printed.\n",
       " You can use print_rows(num_rows=m, num_columns=n) to print more rows and columns.}"
      ]
     },
     "execution_count": 41,
     "metadata": {},
     "output_type": "execute_result"
    }
   ],
   "source": [
    "m.evaluate_precision_recall(validation_data, verbose=False)"
   ]
  },
  {
   "cell_type": "markdown",
   "metadata": {
    "deletable": true,
    "editable": true
   },
   "source": [
    "It doesn't seem to make the trick, the metrics are even worse. Let's now try with our last option for the item-based recommendation system, the jaccard similarity. Using this similarity we don't need the target."
   ]
  },
  {
   "cell_type": "code",
   "execution_count": 42,
   "metadata": {
    "collapsed": false,
    "deletable": true,
    "editable": true
   },
   "outputs": [
    {
     "data": {
      "text/html": [
       "<pre>Recsys training: model = item_similarity</pre>"
      ],
      "text/plain": [
       "Recsys training: model = item_similarity"
      ]
     },
     "metadata": {},
     "output_type": "display_data"
    },
    {
     "name": "stdout",
     "output_type": "stream",
     "text": [
      "Time to create the recommeder: 39.9650559425\n"
     ]
    }
   ],
   "source": [
    "ini = time.time()\n",
    "m = gl.recommender.item_similarity_recommender.create(observation_data=training_data, item_id='song_id',\n",
    "                                                      user_id='user_id', similarity_type='jaccard', verbose=False)\n",
    "print \"Time to create the recommeder:\", time.time()-ini"
   ]
  },
  {
   "cell_type": "code",
   "execution_count": 43,
   "metadata": {
    "collapsed": false,
    "deletable": true,
    "editable": true,
    "scrolled": true
   },
   "outputs": [
    {
     "data": {
      "text/plain": [
       "{'precision_recall_by_user': Columns:\n",
       " \tuser_id\tstr\n",
       " \tcutoff\tint\n",
       " \tprecision\tfloat\n",
       " \trecall\tfloat\n",
       " \tcount\tint\n",
       " \n",
       " Rows: 1326708\n",
       " \n",
       " Data:\n",
       " +-------------------------------+--------+-----------+--------+-------+\n",
       " |            user_id            | cutoff | precision | recall | count |\n",
       " +-------------------------------+--------+-----------+--------+-------+\n",
       " | 00003a4459f33b92906be11abe... |   1    |    0.0    |  0.0   |   4   |\n",
       " | 00003a4459f33b92906be11abe... |   2    |    0.0    |  0.0   |   4   |\n",
       " | 00003a4459f33b92906be11abe... |   3    |    0.0    |  0.0   |   4   |\n",
       " | 00003a4459f33b92906be11abe... |   4    |    0.0    |  0.0   |   4   |\n",
       " | 00003a4459f33b92906be11abe... |   5    |    0.0    |  0.0   |   4   |\n",
       " | 00003a4459f33b92906be11abe... |   6    |    0.0    |  0.0   |   4   |\n",
       " | 00003a4459f33b92906be11abe... |   7    |    0.0    |  0.0   |   4   |\n",
       " | 00003a4459f33b92906be11abe... |   8    |    0.0    |  0.0   |   4   |\n",
       " | 00003a4459f33b92906be11abe... |   9    |    0.0    |  0.0   |   4   |\n",
       " | 00003a4459f33b92906be11abe... |   10   |    0.0    |  0.0   |   4   |\n",
       " +-------------------------------+--------+-----------+--------+-------+\n",
       " [1326708 rows x 5 columns]\n",
       " Note: Only the head of the SFrame is printed.\n",
       " You can use print_rows(num_rows=m, num_columns=n) to print more rows and columns.,\n",
       " 'precision_recall_overall': Columns:\n",
       " \tcutoff\tint\n",
       " \tprecision\tfloat\n",
       " \trecall\tfloat\n",
       " \n",
       " Rows: 18\n",
       " \n",
       " Data:\n",
       " +--------+----------------+-----------------+\n",
       " | cutoff |   precision    |      recall     |\n",
       " +--------+----------------+-----------------+\n",
       " |   1    | 0.237456923453 | 0.0373675530192 |\n",
       " |   2    | 0.208768621279 | 0.0623848501236 |\n",
       " |   3    | 0.188211724057 | 0.0817391743316 |\n",
       " |   4    | 0.171522671153 | 0.0968856433205 |\n",
       " |   5    | 0.158334463951 |  0.109780544788 |\n",
       " |   6    | 0.147581834134 |  0.120785773624 |\n",
       " |   7    | 0.138513631377 |  0.130366393423 |\n",
       " |   8    | 0.130722057906 |  0.139164277092 |\n",
       " |   9    | 0.123954932057 |  0.147061862648 |\n",
       " |   10   | 0.11804059371  |  0.154309873125 |\n",
       " +--------+----------------+-----------------+\n",
       " [18 rows x 3 columns]\n",
       " Note: Only the head of the SFrame is printed.\n",
       " You can use print_rows(num_rows=m, num_columns=n) to print more rows and columns.}"
      ]
     },
     "execution_count": 43,
     "metadata": {},
     "output_type": "execute_result"
    }
   ],
   "source": [
    "m.evaluate_precision_recall(validation_data, verbose=False)"
   ]
  },
  {
   "cell_type": "markdown",
   "metadata": {
    "deletable": true,
    "editable": true
   },
   "source": [
    "Sweet! These are great numbers! It is our best option so far. This is not magic, though, its great accuracy comes from the fact that we are working with implicit data. Users just listen to songs, one or more times, but they don't give an explicit score to each song they listen to, so using the *play_count* as a target to estimate would be a mistake. That's why the previous two options didn't work well. The *jaccard* similarity captures the relationship in implicit data and works very well at normalizing the data. You can see a more detailed explanation [here](https://turi.com/products/create/docs/generated/graphlab.recommender.item_similarity_recommender.ItemSimilarityRecommender.html#graphlab.recommender.item_similarity_recommender.ItemSimilarityRecommender).\n",
    "\n",
    "Finally, we are going to analyse one last option, the ranking factorization recommender system that also works well on implicit data.\n",
    "\n",
    "#### 2.3. Ranking Factorization recommender system\n",
    "\n",
    "Our last approach is the Ranking Factorization which is more complex that the strategies that we have seen so far. It gets some number of latents representing both users and items, and combines them to get a ranking rather than a score (for explicit data, where there are scores, the *Factorization Recommender* should work better).\n",
    "\n",
    "There are a great bunch of settings that should be configured to get a good result from this model. First of all, we are going to use the Implicit Alternating Least Squares (*ials*) solver which usually works better on implicit data. The *num_factors* indicate the number of factors that are used to represent the latent vectors for users and items, the greater this number the longer it takes to create the model and the greater the accuracy. Finally, the *ials_confidence_scaling_factor* denotes how much importance we are giving to the weights obtained from the *ials* solver."
   ]
  },
  {
   "cell_type": "code",
   "execution_count": 59,
   "metadata": {
    "collapsed": false,
    "deletable": true,
    "editable": true
   },
   "outputs": [
    {
     "data": {
      "text/html": [
       "<pre>Recsys training: model = ranking_factorization_recommender</pre>"
      ],
      "text/plain": [
       "Recsys training: model = ranking_factorization_recommender"
      ]
     },
     "metadata": {},
     "output_type": "display_data"
    },
    {
     "name": "stdout",
     "output_type": "stream",
     "text": [
      "Time to create the model: 153.299302101\n"
     ]
    }
   ],
   "source": [
    "ini = time.time()\n",
    "m = gl.recommender.ranking_factorization_recommender.create(training_data, solver='ials',\n",
    "                                                user_id='user_id', item_id='song_id', num_factors=32,\n",
    "                                                verbose=False, ials_confidence_scaling_factor=1.2)\n",
    "print \"Time to create the model:\", time.time()-ini"
   ]
  },
  {
   "cell_type": "markdown",
   "metadata": {
    "deletable": true,
    "editable": true
   },
   "source": [
    "It took much more than the previous approaches, let's see how much time it takes to give a recommendation. "
   ]
  },
  {
   "cell_type": "code",
   "execution_count": 60,
   "metadata": {
    "collapsed": false,
    "deletable": true,
    "editable": true
   },
   "outputs": [
    {
     "name": "stdout",
     "output_type": "stream",
     "text": [
      "Time to return a recommendation: 0.0583698749542\n"
     ]
    }
   ],
   "source": [
    "ini = time.time()\n",
    "m.recommend(users=[training_data['user_id'][0]], k=10)\n",
    "print \"Time to return a recommendation:\", time.time()-ini"
   ]
  },
  {
   "cell_type": "markdown",
   "metadata": {
    "deletable": true,
    "editable": true
   },
   "source": [
    "It keeps being really fast. Let's now see the accuracy."
   ]
  },
  {
   "cell_type": "code",
   "execution_count": 61,
   "metadata": {
    "collapsed": false,
    "deletable": true,
    "editable": true,
    "scrolled": true
   },
   "outputs": [
    {
     "data": {
      "text/plain": [
       "{'precision_recall_by_user': Columns:\n",
       " \tuser_id\tstr\n",
       " \tcutoff\tint\n",
       " \tprecision\tfloat\n",
       " \trecall\tfloat\n",
       " \tcount\tint\n",
       " \n",
       " Rows: 1326708\n",
       " \n",
       " Data:\n",
       " +-------------------------------+--------+-----------+--------+-------+\n",
       " |            user_id            | cutoff | precision | recall | count |\n",
       " +-------------------------------+--------+-----------+--------+-------+\n",
       " | 00003a4459f33b92906be11abe... |   1    |    0.0    |  0.0   |   4   |\n",
       " | 00003a4459f33b92906be11abe... |   2    |    0.0    |  0.0   |   4   |\n",
       " | 00003a4459f33b92906be11abe... |   3    |    0.0    |  0.0   |   4   |\n",
       " | 00003a4459f33b92906be11abe... |   4    |    0.0    |  0.0   |   4   |\n",
       " | 00003a4459f33b92906be11abe... |   5    |    0.0    |  0.0   |   4   |\n",
       " | 00003a4459f33b92906be11abe... |   6    |    0.0    |  0.0   |   4   |\n",
       " | 00003a4459f33b92906be11abe... |   7    |    0.0    |  0.0   |   4   |\n",
       " | 00003a4459f33b92906be11abe... |   8    |    0.0    |  0.0   |   4   |\n",
       " | 00003a4459f33b92906be11abe... |   9    |    0.0    |  0.0   |   4   |\n",
       " | 00003a4459f33b92906be11abe... |   10   |    0.0    |  0.0   |   4   |\n",
       " +-------------------------------+--------+-----------+--------+-------+\n",
       " [1326708 rows x 5 columns]\n",
       " Note: Only the head of the SFrame is printed.\n",
       " You can use print_rows(num_rows=m, num_columns=n) to print more rows and columns.,\n",
       " 'precision_recall_overall': Columns:\n",
       " \tcutoff\tint\n",
       " \tprecision\tfloat\n",
       " \trecall\tfloat\n",
       " \n",
       " Rows: 18\n",
       " \n",
       " Data:\n",
       " +--------+-----------------+-----------------+\n",
       " | cutoff |    precision    |      recall     |\n",
       " +--------+-----------------+-----------------+\n",
       " |   1    |  0.102162646189 | 0.0156459488553 |\n",
       " |   2    | 0.0872520554636 | 0.0255300268617 |\n",
       " |   3    | 0.0771217178158 | 0.0329688636749 |\n",
       " |   4    | 0.0706014435731 | 0.0397362197054 |\n",
       " |   5    | 0.0653379643448 | 0.0454470853241 |\n",
       " |   6    | 0.0609335287041 | 0.0502782812148 |\n",
       " |   7    | 0.0573649751329 | 0.0546757446467 |\n",
       " |   8    | 0.0545647572789 | 0.0587402088677 |\n",
       " |   9    | 0.0521169692201 | 0.0626695226038 |\n",
       " |   10   | 0.0500027134833 | 0.0663130850447 |\n",
       " +--------+-----------------+-----------------+\n",
       " [18 rows x 3 columns]\n",
       " Note: Only the head of the SFrame is printed.\n",
       " You can use print_rows(num_rows=m, num_columns=n) to print more rows and columns.}"
      ]
     },
     "execution_count": 61,
     "metadata": {},
     "output_type": "execute_result"
    }
   ],
   "source": [
    "m.evaluate_precision_recall(validation_data, verbose=False)"
   ]
  },
  {
   "cell_type": "markdown",
   "metadata": {
    "deletable": true,
    "editable": true
   },
   "source": [
    "Well, it's a good accuracy, but worse than the item-based recommender with *jaccard* similarity.\n",
    "\n",
    "A side fact about the recommender systems implemented by GraphLab is that they accept side data for items and users that will help the recommender to give better recommendations, especially when there is a cold start.\n",
    "\n",
    "The decision is made, we are going to use an item-based recommender system :D\n",
    "\n",
    "## Home-Made Item-Based recommender systems\n",
    "\n",
    "Now that we have made the decision to choose an item-based recommender system, we are going to give some intuition of how everything works. We are going to use a modified version of the classic algorithm, based on Fabio Aiolli's work [1]. However, we are going to make other modifications, because Aiolli's work is oriented to getting a good top-k recommendation accuracy, but giving the recommendations may take a long time (longer than a second).\n",
    "\n",
    "[1] Aiolli, Fabio. \"A Preliminary Study on a Recommender System for the Million Songs Dataset Challenge.\" IIR. 2013.\n",
    "\n",
    "For the implementation we will need a dictionary of users per song, i.e., for each song we will have a list of all the users that have listened to that song. Conversely, we will also need a dictionary of songs per user, which basically contains the user's history."
   ]
  },
  {
   "cell_type": "code",
   "execution_count": 81,
   "metadata": {
    "collapsed": true,
    "deletable": true,
    "editable": true
   },
   "outputs": [],
   "source": [
    "song_triplets = pd.read_csv('train_triplets.txt', sep='\\t', names=['user', 'song', 'count'], nrows=10000000)\n",
    "users_per_song = song_triplets[['song', 'user']].groupby('song')['user'].apply(list)\n",
    "songs_per_user = song_triplets[['song', 'user']].groupby('user')['song'].apply(list)"
   ]
  },
  {
   "cell_type": "markdown",
   "metadata": {
    "deletable": true,
    "editable": true
   },
   "source": [
    "Now that we have all the data we will define two functions that will be useful to make the recommendations. The first of them is to get the score, i.e., the distance between two songs. To make so, we carry out the conditional probability that a user listens to a song given the fact that he has listened other song. The second function calculates the score for some number of the songs that the user has recently listened to, it adds them up and return the songs with the highest accumulated score."
   ]
  },
  {
   "cell_type": "code",
   "execution_count": 94,
   "metadata": {
    "collapsed": true,
    "deletable": true,
    "editable": true
   },
   "outputs": [],
   "source": [
    "def get_score(set_users_song, other_users, q=3):\n",
    "    \"\"\"\n",
    "    This function returns the conditional probability that a user listens to song i given that he listened to\n",
    "    song j.\n",
    "    - set_users_song: is the set of users that have listened to song i.\n",
    "    - other_users: list of users that have listened to song j.\n",
    "    - q: the score is powered to some quotient to penalize the very slow scores.\n",
    "    \"\"\"\n",
    "    numerator = len(set_users_song.intersection(other_users))\n",
    "    denominator = len(other_users)\n",
    "    return 0 if numerator == 0 else math.pow(numerator/float(denominator), q)\n",
    "\n",
    "def get_recommendation(user, n_recommendations=5, history=5):\n",
    "    # We get all the songs that the user has listened to so far.\n",
    "    user_songs = songs_per_user.loc[user]\n",
    "    # If it is a new user, it returns the most popular items.\n",
    "    if user_songs is None:\n",
    "        return users_per_song.apply(lambda l: len(l)).nlargest(n_recommendations).index.tolist()\n",
    "    \n",
    "    # We set a 0 score to each song at the beginning.\n",
    "    scores = pd.Series(np.zeros(users_per_song.shape[0]), index=users_per_song.index)\n",
    "    # We only take into account the last 5 songs the user has listened to carry out the scores.\n",
    "    ini = len(user_songs)\n",
    "    if ini > history:\n",
    "        ini = history\n",
    "    # For each song that user has listened to, we get the score and we add all of them to obtain the \n",
    "    for song in user_songs[-ini:]:\n",
    "        set_users_song = set(users_per_song.loc[song])\n",
    "        # We obtain the score for each song by comparing it with the songs that the user has already listened.\n",
    "        scores = scores.add(map(lambda l_users: get_score(set_users_song, l_users), users_per_song))\n",
    "    # We drop the songs that the user has already listened to\n",
    "    scores.drop(user_songs)\n",
    "    \n",
    "    return scores.nlargest(n_recommendations + 1).index.tolist()"
   ]
  },
  {
   "cell_type": "markdown",
   "metadata": {
    "deletable": true,
    "editable": true
   },
   "source": [
    "Let's now see how much it takes to our home-made function to return the recommendations."
   ]
  },
  {
   "cell_type": "code",
   "execution_count": 95,
   "metadata": {
    "collapsed": false,
    "deletable": true,
    "editable": true
   },
   "outputs": [
    {
     "name": "stdout",
     "output_type": "stream",
     "text": [
      "Time to make recommendations: 3.88573718071\n"
     ]
    }
   ],
   "source": [
    "user = songs['user'].iloc[0]\n",
    "ini = time.time()\n",
    "get_recommendation(user, history=5)\n",
    "print \"Time to make recommendations:\", time.time()-ini"
   ]
  },
  {
   "cell_type": "markdown",
   "metadata": {
    "deletable": true,
    "editable": true
   },
   "source": [
    "We can see how much slower this approach is than the ones that we have seen so far. More than 3 seconds, only considering 10M rows. What takes more time is to get the distance between one song and all the other ones in the dataset. Thus, if we wanted to make it faster and more responsive, we should pre-compute the distances between the items, since they are pretty stable on time, and use those values when making the recommendations. However, this makes the system far less updatable, we should re-compute the distances between songs periodically so that we keep up-to date. GraphLab has taken into account all these facts and provides a very complete and efficient implementation.\n",
    "\n",
    "## Building the web service\n",
    "\n",
    "So far, we have seen our data and which recommender algorithm suits better, as well as we've seen how to implement a recommender algorithm from scratch. Now it's time to put all the pieces together and to build a web service providing two functions:\n",
    "* *add_data(userId, itemId)*: which basically will add a new user-item interaction. This is the case when a user listens to a song, and it's added to his history.\n",
    "* *get_recommendations(userId)*: given a user id, this function will return a set of recommended songs based on his history.\n",
    "\n",
    "Before we do so, it's a good idea to create a class that holds all the recommendation functionality. Thus, our first task is to create such class."
   ]
  },
  {
   "cell_type": "code",
   "execution_count": 3,
   "metadata": {
    "collapsed": false,
    "deletable": true,
    "editable": true
   },
   "outputs": [],
   "source": [
    "class Recommender:\n",
    "    def __init__(self, path_to_data):\n",
    "        self.__path_to_data = path_to_data\n",
    "        self.__new_data = None\n",
    "        self.create_model()\n",
    "        self.__update_threshold = 10000\n",
    "        print \"Recommender initialized\"\n",
    "    \n",
    "    def get_recommendations(self, user, k=4):\n",
    "        \"\"\"\n",
    "        This function returns a k set of recommendations for a given user. If\n",
    "        the user is not the system yet, it returns the most popular songs.\n",
    "        - user: user id to which we are going to look for recommendations.\n",
    "        - k: number of recommendations returned.\n",
    "        \"\"\"\n",
    "        print \"Recommendations for user\", user\n",
    "        \n",
    "        if self.__new_data is not None:\n",
    "            return self.__model__ .recommend(users=[user], k=k, verbose=True,\n",
    "                                      new_observation_data = self.__new_data)['song_id']\n",
    "\n",
    "        return self.__model__ .recommend(users=[user], k=k, verbose=True)['song_id']\n",
    "    \n",
    "    def add_data(self, user_id, song_id):\n",
    "        \"\"\"\n",
    "        Given a user and a song interaction, this function adds the new interaction\n",
    "        to the new data. If the number of new rows gets a previously specified\n",
    "        threshold it updates the model with the new data.\n",
    "        \"\"\"\n",
    "        assert user_id is not None, \"The user_id is null\"\n",
    "        assert song_id is not None, \"The song_id is null\"\n",
    "        #print user_id, song_id, self.__new_data\n",
    "        if self.__new_data is None:\n",
    "            self.__new_data = gl.SFrame({'user_id':[user_id], 'song_id':[song_id]})\n",
    "        else:\n",
    "            self.__new_data = gl.SFrame({'user_id':[user_id], \n",
    "                                     'song_id':[song_id]}).append(self.__new_data)\n",
    "        if (self.__new_data.shape[0] > self.__update_threshold):\n",
    "            print \"It's gonna be updated\"\n",
    "            self.update()\n",
    "        return 0\n",
    "        \n",
    "    def update(self):\n",
    "        \"\"\"\n",
    "        When the number of data added gets the threshold the model is updated.\n",
    "        Once everything is updated, the new_data is deleted and set to None \n",
    "        again.\n",
    "        \"\"\"\n",
    "        self.create_model()\n",
    "        del self.__new_data\n",
    "        self.__new_data = None\n",
    "        return 0\n",
    "        \n",
    "    def create_model(self):\n",
    "        \"\"\"\n",
    "        This function creates the item-based GraphLab model. In order to do so\n",
    "        it first reads the history data stored, it then appends the new_data\n",
    "        to the read data and creates the model. To back-up it also saves the \n",
    "        model, and overwrites the data stored with the new set of data. Finally,\n",
    "        it deletes the data that is useless for the execution.\n",
    "        \"\"\"\n",
    "        self.__data = gl.SFrame.read_csv(self.__path_to_data, delimiter=',', \n",
    "                           verbose=False, header=True)\n",
    "        #self.__data = self.__data.rename({'X1': 'user_id', 'X2': 'song_id'})\n",
    "        if self.__new_data is not None:\n",
    "            self.__data = self.__new_data.append(self.__data)\n",
    "        self.__model__ = gl.recommender.item_similarity_recommender.create(self.__data, \n",
    "                                item_id='song_id', user_id='user_id', \n",
    "                                similarity_type='jaccard', verbose=False)\n",
    "        self.__model__.save('jaccard_recommender')\n",
    "        self.__data[['user_id', 'song_id']].export_csv(self.__path_to_data, header=True)\n",
    "        self.__users = self.__data['user_id'].unique()\n",
    "        del self.__data\n",
    "        print \"Recommender created\"\n",
    "        \n",
    "        return 0\n",
    "    \n",
    "    def get_songs(self):\n",
    "        \"\"\"\n",
    "        Returns the list of all the songs loaded in the recommender.\n",
    "        \"\"\"\n",
    "        songs = self.__model__.recommend(users=['a'], k=self.__model__.get('num_items'))\n",
    "        return list(songs['song_id'])\n",
    "    \n",
    "    def get_users(self):\n",
    "        \"\"\"\n",
    "        Returns the list of all the users loaded in the recommender.\n",
    "        \"\"\"\n",
    "        return list(self.__users)"
   ]
  },
  {
   "cell_type": "markdown",
   "metadata": {
    "collapsed": true,
    "deletable": true,
    "editable": true
   },
   "source": [
    "As you can see there are some extra features that we haven't seen so far. The recommender also provides two methods to get the whole list of songs and users. It also has a method to update the recommender once some number of interactions was added. The other functions are the ones needed for the web service.\n",
    "\n",
    "Now it's time to see the web service itself."
   ]
  },
  {
   "cell_type": "code",
   "execution_count": null,
   "metadata": {
    "collapsed": false
   },
   "outputs": [],
   "source": [
    "import web\n",
    "from recommender import Recommender\n",
    "import json\n",
    "\n",
    "urls = (\n",
    "    '/data/recommendations', 'get_recommendations',\n",
    "    '/data/add', 'add_data',\n",
    "    '/data/songs', 'list_songs',\n",
    "    '/data/users', 'list_users'\n",
    ")\n",
    "\n",
    "recommender = Recommender('to_train.csv')\n",
    "app = web.application(urls, globals())\n",
    "\n",
    "class get_recommendations:\n",
    "    \"\"\"\n",
    "    This class defines the functionality to get the recommendations for a given\n",
    "    user. It first gets the user_id given in the querystring with the following\n",
    "    format: [ip]:[port]/data/recommendations?user_id=[user_id]. Once the\n",
    "    querystring is parsed, the user_id is obtained and the recommender object\n",
    "    is invoked.\n",
    "    It finally returns the recommendations in a JSON response.\n",
    "    \"\"\"\n",
    "    def GET(self):\n",
    "        input_data = web.input(user_id=None)\n",
    "        user_id = input_data['user_id']\n",
    "        #if user_id is None:\n",
    "        #    return web.internalerror(\"To get a recommendation, a user_id should be given in the query-string.\")\n",
    "        user_id = str(user_id)\n",
    "        recs = recommender.get_recommendations(user_id, 4)\n",
    "        response = {'recommendations': list(recs)}\n",
    "        \n",
    "        web.header('Content-Type', 'application/json')\n",
    "        return json.dumps(response)\n",
    "\n",
    "class add_data:\n",
    "    \"\"\"\n",
    "    This class implements the POST function to add a new user-song interaction.\n",
    "    Whenever a user plays a song it is added to the service so that the \n",
    "    recommendations are kept up to date. The post body should contain two key-\n",
    "    value fields: user_id=[user_id] and song_id=[song_id].\n",
    "    Once all the data is obtained and parsed, this function calls the recommender's \n",
    "    add_data function, and if everything is ok it returns an OK JSON.\n",
    "    \"\"\"\n",
    "    def POST(self):\n",
    "        dic = web.input(user_id=None, song_id=None)\n",
    "        user_id = dic['user_id']\n",
    "        song_id = dic['song_id']\n",
    "        #if user_id is None or song_id is None:\n",
    "        #    return web.internalerror(\"There was an error parsing the query-string. A valid user_id and song_id should be given in the query-string.\")\n",
    "        \n",
    "        user_id = str(user_id)\n",
    "        song_id = str(song_id)\n",
    "        recommender.add_data(user_id, song_id)\n",
    "        response = {'user_id': user_id, 'song_id': song_id, 'response': 'interaction successfully added'}\n",
    "        \n",
    "        web.header('Content-Type', 'application/json')\n",
    "        return json.dumps(response)\n",
    "        \n",
    "class list_songs:\n",
    "    \"\"\"\n",
    "    It returns the whole list of songs already loaded in the system.\n",
    "    \"\"\"\n",
    "    def GET(self):\n",
    "        songs = recommender.get_songs()\n",
    "        response = {'songs': songs}\n",
    "        \n",
    "        web.header('Content-Type', 'application/json')\n",
    "        return json.dumps(response)\n",
    "\n",
    "class list_users:\n",
    "    \"\"\"\n",
    "    It returns the whole list of users already loaded in the system.\n",
    "    \"\"\"\n",
    "    def GET(self):\n",
    "        users = recommender.get_users()\n",
    "        response = {'users': users}\n",
    "        \n",
    "        web.header('Content-Type', 'application/json')\n",
    "        return json.dumps(response)\n",
    "\n",
    "#if __name__ == \"__main__\":\n",
    "app.run()"
   ]
  },
  {
   "cell_type": "markdown",
   "metadata": {},
   "source": [
    "And that's it! We are done!\n",
    "\n",
    "In the folder I will also leave a script that serves to test the web service, as well as it will fill the recommender with the rest of the interactions in the dataset.\n",
    "\n",
    "Thanks for reaching so far!"
   ]
  },
  {
   "cell_type": "code",
   "execution_count": null,
   "metadata": {
    "collapsed": true
   },
   "outputs": [],
   "source": []
  }
 ],
 "metadata": {
  "kernelspec": {
   "display_name": "Python 2",
   "language": "python",
   "name": "python2"
  },
  "language_info": {
   "codemirror_mode": {
    "name": "ipython",
    "version": 2
   },
   "file_extension": ".py",
   "mimetype": "text/x-python",
   "name": "python",
   "nbconvert_exporter": "python",
   "pygments_lexer": "ipython2",
   "version": "2.7.12"
  }
 },
 "nbformat": 4,
 "nbformat_minor": 2
}
